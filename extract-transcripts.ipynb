{
 "cells": [
  {
   "cell_type": "markdown",
   "id": "7b23b666",
   "metadata": {},
   "source": [
    "### Download Podcasts"
   ]
  },
  {
   "cell_type": "code",
   "execution_count": 1,
   "id": "debc34dd",
   "metadata": {},
   "outputs": [],
   "source": [
    "import requests\n",
    "import os\n",
    "import re\n",
    "from bs4 import BeautifulSoup\n",
    "import dateutil.parser"
   ]
  },
  {
   "cell_type": "code",
   "execution_count": 2,
   "id": "90e1686b",
   "metadata": {},
   "outputs": [],
   "source": [
    "rss_feeds = {'Dave Ramsey': 'https://feeds.megaphone.fm/RM4031649020', \n",
    "             'Huberman-Lab': 'https://feeds.megaphone.fm/hubermanlab',\n",
    "             'Peter Attia MD': 'https://peterattiadrive.libsyn.com/rss',\n",
    "             'Tim Ferriss Show': 'https://rss.art19.com/tim-ferriss-show',}"
   ]
  },
  {
   "cell_type": "code",
   "execution_count": 3,
   "id": "ac8e5c08",
   "metadata": {},
   "outputs": [
    {
     "name": "stdout",
     "output_type": "stream",
     "text": [
      "https://feeds.megaphone.fm/RM4031649020\n",
      "https://feeds.megaphone.fm/hubermanlab\n",
      "https://peterattiadrive.libsyn.com/rss\n",
      "https://rss.art19.com/tim-ferriss-show\n"
     ]
    }
   ],
   "source": [
    "for value in rss_feeds.values():\n",
    "    print(value)"
   ]
  },
  {
   "cell_type": "code",
   "execution_count": 4,
   "id": "d23a0a58",
   "metadata": {},
   "outputs": [],
   "source": [
    "podcast = 'Tim Ferriss Show'\n",
    "page = requests.get(rss_feeds[podcast])\n",
    "soup = BeautifulSoup(page.text, 'xml')"
   ]
  },
  {
   "cell_type": "code",
   "execution_count": 5,
   "id": "e9586ca4",
   "metadata": {},
   "outputs": [],
   "source": [
    "def get_all_podcast_items(rss_feeds):\n",
    "    all_items = []\n",
    "    for value in rss_feeds.values():\n",
    "        page = requests.get(value)\n",
    "        all_items += BeautifulSoup(page.text, 'xml').find_all('item')\n",
    "        \n",
    "    return all_items"
   ]
  },
  {
   "cell_type": "code",
   "execution_count": 6,
   "id": "38b32192",
   "metadata": {},
   "outputs": [],
   "source": [
    "all_items = get_all_podcast_items(rss_feeds)"
   ]
  },
  {
   "cell_type": "code",
   "execution_count": 7,
   "id": "24c76fb3",
   "metadata": {},
   "outputs": [],
   "source": [
    "podcast_items = soup.find_all('item')\n",
    "episodes = [podcast.find('enclosure')['url'] for podcast in podcast_items]\n",
    "titles = [podcast.find('title').text for podcast in podcast_items]\n",
    "dates = [podcast.find('pubDate').text for podcast in podcast_items]"
   ]
  },
  {
   "cell_type": "code",
   "execution_count": 8,
   "id": "ff9af39e",
   "metadata": {},
   "outputs": [],
   "source": [
    "def parse_date(date):\n",
    "    return dateutil.parser.parse(date).strftime('%b-%d-%Y') # Add _%H%M for safety\n"
   ]
  },
  {
   "cell_type": "code",
   "execution_count": 9,
   "id": "bf6aeb1a",
   "metadata": {},
   "outputs": [],
   "source": [
    "def get_episodes(podcast_items, search=None, limit=5):\n",
    "    output = []\n",
    "    for podcast in podcast_items:\n",
    "        if len(output) == limit:\n",
    "            break\n",
    "        elif search is not None:\n",
    "            if re.search(search, podcast.find('description').text, re.I):\n",
    "                output.append(podcast)\n",
    "        else:\n",
    "            output.append(podcast)\n",
    "    \n",
    "    return output\n",
    "\n",
    "def get_episode_metadata(podcast_items):\n",
    "    episode_urls = [podcast.find('enclosure')['url'] for podcast in podcast_items]\n",
    "    episode_titles = [podcast.find('title').text for podcast in podcast_items]\n",
    "    episode_release_dates = [parse_date(podcast.find('pubDate').text) for podcast in podcast_items]\n",
    "    return list(zip(episode_urls, episode_titles, episode_release_dates))"
   ]
  },
  {
   "cell_type": "code",
   "execution_count": 10,
   "id": "b2ea8926",
   "metadata": {},
   "outputs": [],
   "source": [
    "#items = get_episodes(all_items, 'ketamine', limit=5)\n",
    "metadata = get_episode_metadata(podcast_items)\n",
    "urls, titles, release_dates = zip(*metadata)"
   ]
  },
  {
   "cell_type": "code",
   "execution_count": 11,
   "id": "684e6474",
   "metadata": {},
   "outputs": [],
   "source": [
    "# import datetime\n",
    "\n",
    "# datetime.datetime.strptime(dates[0], '%a, %d %b %Y %X %f').strftime('%y')"
   ]
  },
  {
   "cell_type": "code",
   "execution_count": 12,
   "id": "4e126ee5",
   "metadata": {},
   "outputs": [],
   "source": [
    "EPISODE_COUNT = 10"
   ]
  },
  {
   "cell_type": "code",
   "execution_count": 13,
   "id": "3cc00015",
   "metadata": {},
   "outputs": [
    {
     "name": "stdout",
     "output_type": "stream",
     "text": [
      "Oct-31-2022\n",
      "Oct-28-2022\n",
      "Oct-25-2022\n",
      "Oct-19-2022\n",
      "Oct-11-2022\n",
      "Oct-08-2022\n",
      "Oct-05-2022\n",
      "Sep-29-2022\n",
      "Sep-27-2022\n",
      "Sep-27-2022\n"
     ]
    }
   ],
   "source": [
    "path = f'./downloads/{podcast}'\n",
    "if not os.path.exists(path):\n",
    "    os.mkdir(path)\n",
    "\n",
    "for i in range(EPISODE_COUNT):\n",
    "    episode_url = episodes[i]\n",
    "    redirect_url = requests.get(episode_url).url\n",
    "    results = requests.get(redirect_url)\n",
    "    file_name = release_dates[i]\n",
    "\n",
    "    print(file_name)\n",
    "    with open(f'{path}/{file_name}.mp3', 'wb') as f:\n",
    "        f.write(results.content)\n",
    "        \n",
    "#     print('---')\n",
    "#     print(titles[i])\n",
    "#     #file_name = re.sub(r'[/\\.\\\\]', '', titles[i])[:100]\n",
    "#     file_name = titles[i].replace('/','-').replace('\\\\','-').replace('.',' ')[:100]"
   ]
  },
  {
   "cell_type": "markdown",
   "id": "2aefcdf0",
   "metadata": {},
   "source": [
    "### Transcribe Podcasts"
   ]
  },
  {
   "cell_type": "code",
   "execution_count": 14,
   "id": "8d440c9f",
   "metadata": {},
   "outputs": [],
   "source": [
    "def read_file(filename, chunk_size=5242880):\n",
    "    with open(filename, 'rb') as _file:\n",
    "        while True:\n",
    "            data = _file.read(chunk_size)\n",
    "            if not data:\n",
    "                break\n",
    "            yield data"
   ]
  },
  {
   "cell_type": "code",
   "execution_count": 15,
   "id": "2f8ed860",
   "metadata": {},
   "outputs": [],
   "source": [
    "headers = {'authorization': os.environ['ASSEMBLY_AI_KEY']}\n",
    "\n",
    "urls = []\n",
    "files = f'./downloads/{podcast}'\n",
    "file_names = os.listdir(files)\n",
    "for file in file_names:\n",
    "    filename = f'{files}/{file}'\n",
    "    response = requests.post('https://api.assemblyai.com/v2/upload',\n",
    "                            headers=headers,\n",
    "                            data=read_file(filename))\n",
    "    \n",
    "    urls.append(response.json())\n",
    "    \n",
    "    "
   ]
  },
  {
   "cell_type": "code",
   "execution_count": 16,
   "id": "6f3252a5",
   "metadata": {},
   "outputs": [
    {
     "data": {
      "text/plain": [
       "[{'upload_url': 'https://cdn.assemblyai.com/upload/d19dcff0-72b3-44cf-bed6-5ca5d1c756a2'},\n",
       " {'upload_url': 'https://cdn.assemblyai.com/upload/84977a93-076d-46a5-abba-55dfa01fd75a'},\n",
       " {'upload_url': 'https://cdn.assemblyai.com/upload/f97ba805-b376-43e1-8dc4-71f95d0507cc'},\n",
       " {'upload_url': 'https://cdn.assemblyai.com/upload/e8d46b27-250f-4acb-abd9-affa4ee0fe9a'},\n",
       " {'upload_url': 'https://cdn.assemblyai.com/upload/40f197f3-4e7a-4cbb-b0e2-b6f864eee6ec'},\n",
       " {'upload_url': 'https://cdn.assemblyai.com/upload/07bd0686-606b-4d7c-8f3c-6f572fee53d2'},\n",
       " {'upload_url': 'https://cdn.assemblyai.com/upload/271b2fb4-4723-4339-97a4-0a0b2a1b469c'},\n",
       " {'upload_url': 'https://cdn.assemblyai.com/upload/e0c440c3-05d2-439c-963c-16447c4f1738'},\n",
       " {'upload_url': 'https://cdn.assemblyai.com/upload/235b3e04-0f48-45a7-8f1c-342106111465'}]"
      ]
     },
     "execution_count": 16,
     "metadata": {},
     "output_type": "execute_result"
    }
   ],
   "source": [
    "urls"
   ]
  },
  {
   "cell_type": "code",
   "execution_count": 17,
   "id": "7dd1869e",
   "metadata": {},
   "outputs": [
    {
     "name": "stdout",
     "output_type": "stream",
     "text": [
      "Transcription # 0\n",
      "<Response [200]>\n",
      "Transcription # 1\n",
      "<Response [200]>\n",
      "Transcription # 2\n",
      "<Response [200]>\n",
      "Transcription # 3\n",
      "<Response [200]>\n",
      "Transcription # 4\n",
      "<Response [200]>\n",
      "Transcription # 5\n",
      "<Response [200]>\n",
      "Transcription # 6\n",
      "<Response [200]>\n",
      "Transcription # 7\n",
      "<Response [200]>\n",
      "Transcription # 8\n",
      "<Response [200]>\n"
     ]
    }
   ],
   "source": [
    "count=0\n",
    "output_ids = []\n",
    "for url in urls:\n",
    "    print(\"Transcription #\", count)\n",
    "    endpoint = \"https://api.assemblyai.com/v2/transcript\"\n",
    "    json = {\n",
    "        \"audio_url\": url['upload_url'],\n",
    "        \"audio_start_from\": 300000,\n",
    "        \"audio_end_at\": 600000,\n",
    "    }\n",
    "    headers = {\n",
    "        \"authorization\": os.environ['ASSEMBLY_AI_KEY'],\n",
    "        \"content-type\": \"application/json\"\n",
    "    }\n",
    "    response = requests.post(endpoint, json=json, headers=headers)\n",
    "    print(response)\n",
    "    output_ids.append(response.json()['id'])\n",
    "    count+=1"
   ]
  },
  {
   "cell_type": "code",
   "execution_count": 19,
   "id": "9cdb5a22",
   "metadata": {},
   "outputs": [
    {
     "name": "stdout",
     "output_type": "stream",
     "text": [
      "Cover to your current mattress and start sleeping as cool as 55 degrees Fahrenheit or as hot as 110 degrees Fahrenheit. It also splits your bed in half so your partner can choose a totally different temperature. My girlfriend runs hot all the time. She doesn't need cooling, she loves the heat. And we can have our own bespoke temperatures on either side, which is exactly what we're doing now for me and for many people. The result eight Sleep users fall asleep up to 32% faster, reduce sleep interruptions by up to and get more restful sleep overall. I can personally attest to this because I track it in all sorts of ways. It's the total solution for enhanced recovery so you can take on the next day feeling refreshed. And good news. Eight Sleep has launched the next generation of the pod. The new Pod Three enables more accurate sleep and health tracking with twice the number of sensors. It's just a smoother, better experience that delivers you the best sleep on earth. At least that has been true for me. Simply add this to your existing mattress and you're all set. It is not magic, but sometimes it does feel like it. It just works. So go to eightsleep.com Tim and save $250 on the pod cover. That's eightsleep.com, Tim. All spelled out. Eight? eightsleep.com Tim currently ships within the US, canada, the UK, select countries in the EU and Australia. You can also find the link in this episode's description. At this altitude, I can run flat out for a half mile before my hands start to shake. Else I'm a cybernetic organism, living tissue over metal and hello boys and girls, ladies and germs, this is Tim Ferriss. Welcome to another episode of The Tim Ferris Show, where it is usually my job to deconstruct worldclass performers to tease out their routines, habits, etc. That you can apply to your own life and lives. This episode is something different. It's an experimental format that I am super excited about, and apparently so are many of you. It's backed by popular demand. This is an episode that scratches an itch I've had for many years now. I'm not always able to listen to every great podcast episode out there, even when they are by some of my closest friends. To answer that predicament, I decided to ask them, many of my friends, to send a top segment from their own podcasts that I could listen to and more importantly, also share with you my dear listeners. My team edited them together and here we are. This episode is a compilation of roughly 15 to 30 minutes clips from some of the best podcasters and also best interviewees in the world, and certainly some of my favorites. At the beginning of each clip, you will hear an intro from the host and where to find their work and podcast at the end. I'll also share one or two of my favorite clips from episodes of the Tim ferriss Show. You can view this episode as a buffet and I strongly suggest that you check out the shows included. If you like my podcast, you will very likely enjoy the featured shows in this episode. For the full list of the guests featured today, see the episode's description or, as usual, head to Tim Logpodcast for all the details. And before you go, do you like this format? Please let me know on Twitter at tferris tferriss and also mention CC at team Tim Ferriss, if you remember. Without further ado, please enjoy. Greetings, friends. I'm Tara Brock and I've been teaching meditation, primarily from the Buddhist tradition, for about 45 years, and I spent about 20 of those years as a clinical psychologist. I'm also author of several books, including Radical Acceptance and Trusting the Gold. My weekly podcast of talks and guided meditations, which goes by my name, draws on Buddhism, psychology and science, and we explore everything from how to work with self judgments, fears, trauma, losses, to how to resolve conflicts and increase intimacy with each other, to how, in these times of such global trauma and dividedness, we can be part of a larger societal healing and in the deepest way. The weekly talks are guides to realizing who we are beyond the story of a separate and often deficient self, realizing the love and the creativity and awareness that expresses our true nature. In addition to the podcast, I lead a mindfulness teacher training program with my colleague Jack Cornfield that has thousands of participants from over 50 countries, all.\n",
      "E br. Brian founded and was CEO of Universetutor.com, an online tutoring directory and a subsidiary of Johnson Educational Technologies, LLC. Brian also served previously as a consultant for the Enterprise Risk Management Division at Deloitte and Tuch LLP. Brian has BA in Computer science and Economics and an Ms in Computer Science from Rice University. Over the last three years, Coinbase has worked with ten time Emmy Awardwinning filmmaker Greg Coz on a documentary about cryptocurrency and Coinbase. Coin, that is the name of the documentary, is now available on Amazon, itunes, Vimeo, on Demand and other platforms. You can find Brian on Twitter, which I suggest you follow at Brian Armstrong. Brian, nice to see you. Thanks for making the time. Yeah, thanks Tim, for having me on the show. And sometimes in the course of doing research, I find a gingerbread trail that leads me to the story before the story before the story. And this may be a dead end, but I'm going to give it a shot. What was startbreaking free.com. Does this ring a bell for you? That's impressive. You found that? That's a blog that I started, and I actually decided when I was right out of college I was working on that tutoring company. Somehow I got the idea in my head that I should write a book. And I think what I was doing was whenever I want to try to learn something or figure it out, I try to write it down. Now I just do blog posts. It seems a lot easier. But at the time I was like, I really wanted to be an entrepreneur. I wanted to build a company that was meaningful and most people would probably go do that first and then write the book. But I somehow got it backwards and was like, you know what, let me write the book to figure out how to do it. So I wrote a book called Start Breaking Free. And then after I wrote this, I didn't have a publisher or anything, I was kind of doing a self publishing thing and I read a book called how to Market Your Book. And I basically realized that I had to go make a blog or something to try to market the book. So I created this blog. Honestly, the blog probably was more impactful in my life than the book in the sense that I just put something out every week. I got reactions from the audience in real time. So now I guess my takeaway from that was if I was going to do that again, I'd probably just go with a blog. And if I had a blog that had ten or 1215 posts that had really resonated with people, I'd maybe later package those into a book and add a few more that were unique or something like that. But at the time I got the order wrong and I was just trying stuff. So that's what I put out there. Well, sometimes it's the things you throw against the wall that sort of, in retrospect form, the puzzle that helps you to do so many things. And I suppose one of the experiences I'd love to at least bring up since we have this shared time in Argentina, is your period of time in windows areas. And it's hard for me to say it that way. No, say it is. And I'd like to hear specifically what you took away. Not just the experience of witnessing hyperinflation, which I do think we should talk about, but anything else that struck you culturally or otherwise, and also why Argentina in the first place, of all the places you could go, and if you could just placing some time in terms of how old you are, when in your life this happens. I think I was probably 28 or 27 something in that time frame. I graduated from college. I've been working on this tutoring start up. I tried working at a couple of different companies like Deloitte. Frankly, I wasn't feeling very successful. I hadn't really found a company that I wanted to work at. I thought I wanted to be an entrepreneur, but the tutoring company I'd started was kind of limping along, fairly successful. I mean, I was kind of paying my rent type thing, but barely, and it wasn't really growing. And I had this sense of like, okay, I want to go have some adventure in the world. I want to learn how to do a startup in a different way. I had never really tried living abroad, like, studying abroad. And there was part of me that was like, I need to grow up. I need to try something crazy and just get adventure in my life. And I had never been to South America, and I knew a little bit of Spanish from high school, but I was not very fluent at all. And so I decided, you know what, I'm going to go do a year. Spent a month in every major city in South America, travel around, try to find myself. I was kind of doing like a vision quest to figure out what I want to do with my life. And I can't remember how I chose Buenos Aires, but that was intended to be my first destination of many. One per month, roughly. I think I just read some stuff online. I don't remember what time frame you were down there, but I think I read your book maybe a couple of years after that or something. The odd timing was kind of odd, but I basically made it down there to Buenos Aires. Didn't really have a place to stay or anything. I was intentionally kind of throwing myself into, like, an unfamiliar situation. And I ended up staying at a hostel. I found finally a room to rent. I figured out how to use an ATM, got a local cell phone. And after a month, I was finally settled. A little bit. And I was like, all right, I don't want to go have to do that all over again in Brazil or Chile. So I was like, Let me stay here a little bit longer. Long story short, I ended up staying there about a year and did a few trips into neighboring countries and things like that, but mostly planted myself.\n"
     ]
    },
    {
     "name": "stdout",
     "output_type": "stream",
     "text": [
      "Voreeclothing.com forward slash Tim. That's vuori clothing.com slash tim not only will you receive 20% off your first purchase, but you'll also enjoy free shipping on any US orders over $75 and free returns. So check it out. Vouri clothing tim tim. That's vuor iclothing.com tim and discover the versatility of viori clothing. At this altitude, I can run flat out for a half mile before my hand starts shaking. Can I ask you a personal question? No. I'm a cybernetic organism living the show over metal mental Cellar Show hello, boys and girls, ladies and germs. This is Tim Ferriss. Welcome to another episode of The Tim Ferriss Show, where it is usually my job to sit down with world class performers of all different types, to tease out the habits, routines, favorite books and so on that you can apply and test in your own life. This time we have a slightly different format, which is backed by popular request, and I am the guest. If you would like an interview, you can choose any other episode just about that I've put out, and you will find an interview. Now, this time around, we're revisiting a few things. As some of you know, I tested a fan supported model in 2019 where people could pay and avoid advertisements on the podcast, but I ended up returning to ads to sponsors by request. That is a long story, and you can read all about it at Tim blog. Podcast Experiment I recently sat down, metaphorically speaking, with the original supporter group for fun and live Q and A on YouTube. And the recording you're going to hear is comprised of questions that were submitted in advance, as well as questions I took from the live chat. In this episode. I answer questions on marketing and product launches. Premium pricing. User feedback. Fasting routines. Podcast advertising. My recent gardening adventures. Tools for releasing tension in the iliacus of all things very specific. My current coffee and alcohol rules. Adventures with the so as it's related to the game. Earlier advice for artisans or artists. Animal communication experiments or at least approaches. Tools for handling adverse moments in life. And much more. We cover a lot of ground. I hope you enjoy it as much as I did, and thanks for listening. All right, guys, thanks for joining today. This is going to be another private live Q and A, and I'll do my best to answer questions in two different forms. We will alternate between questions that were submitted ahead of time and questions in the live feed. And I'm going to start with some of the questions that were submitted beforehand, and then people can add questions to the chat. The more specific, the better. The broader they are, the harder it will be for me to answer. If they're really long, I will probably also skip them, so try to keep things very concise. Let me just take a look at a few of the questions here that are marketing and PR launch focused and it'll be fun for me to stretch these muscles since I haven't done anything specific to these type of topics in quite a long time. So here it goes. The first question that I have in front of me is from John. I'm going to keep last names out of it, but J-O-N if you're going to launch a new fast casual restaurant how would you gather the crowd before building the restaurant, ie. Making sure people would come when it opens? Well, the theme that I think is going to occur in many of my answers is one of risk mitigation, perhaps I'm known by some or thought of by some as a risk taker because I do things like invest in early stage startups which tend to go to zero. I would say very high percentage. Maybe 50% to 70% of my investments go to zero. But you have to keep in mind a number of other factors and this relates to poker and other games of skill that are blended with a high degree of chance and part of that is say, bankroll bet sizing, knowing your maximum downside compared to your maximum upside. So that's just a frame perspective that I would like to present as one I look through for evaluating almost any type of question like this. Any type of opportunity, any type of risk. So coming back to fast casual restaurant, what would I do? How would I gather the crowd before building the restaurant? I would look at low risk capped downside ways of experimenting with this concept. So for instance, in Austin, Texas, where my home base is.\n",
      "Funding line, tree RA spent 13 years at UBS, closing his tenure as vice chairman and head of America's Investment Banking. Before UBS, RA was a high yield research analyst and ranked as the number one cable and satellite analyst by Institutional Investor for seven consecutive years. RA is a graduate of the University of California at San Diego, Diego and resides in New York City with his family. You can find Lion Tree@liontree.com and on Instagram you can find a number of accounts at Rehabourkoff that's spelled Aryehbourkoff at Lionfree LLC and at Kindred. Podcast rea. Welcome to the show. Nice to see you. Thanks, Dan. Great to see you. Thanks for having me. Of course. I've been looking forward to this. And I wanted to start with actually a mention in your bio. So, ranked as the number one cable and satellite analyst by Institutional Investor for seven consecutive years. What makes a good analyst or what made you a good analyst, and what are common mistakes that analysts make? Well, it takes me back. A career has different chapters to it, right? I actually think those chapters should be related to one another and foundational in nature. But I don't like to hover in one place for too often, and I also don't like to think about the zero sum game. So things I'm doing today have no relationship to things I did before. But I'm glad you brought up this analyst job because I think a lot of people forget about that part of my life. But it was so core in training and also in the relationships and the understanding of how to be not only a good purveyor of companies, but also of my own emotional stability, I would say. And so the way I would say that is analysts often go around, but, you know, it could be like a therapist, an analyst, but in this case a research analyst, which I was someone that really looked at securities or stocks or bonds in a particular industry. So for me, the industries were always media, cable, telecoms, technology, consumer driven companies. And at first, I looked at those companies from a bond perspective, junk bonds, high yield bonds, and then equity stocks. And covering the stocks in the same industries allowed me to ultimately get to the goal of helping investors make money with those recommendations. Now, how you do that is understanding the company, its fundamental picture, and ultimately where it's going in the future, because everything today should be understood and everything tomorrow should have a lot of uncertainty around it. So pattern recognition, how to predict the future is the first thing that you really are supposed to be learning as an analyst in order to help inform the masses of which investments to make. But then the emotional stability part of it comes into play when you get out in front of everybody and say, with some boldness and some prose and some analysis, here's my view. I think I'm right, more often than not, you're wrong. And it's like watching two kids in a schoolyard when you were growing up, getting into an argument, and you watched one of them clearly lose that argument, and they count down until you saw that they recognized that they would have the confidence to admit that they lost the argument. And there's always a lag. It could be 10 seconds, it could be weeks, it could be years. And that's all about capitulation. And so the first thing I learned was when I was wrong and I thought that I would be right, to quickly recognize that I didn't have anything that was that interesting or different to say in front of everybody. And by doing that, it was very embarrassing. This could even be minor things, but it builds so much credibility later that when you are right, it counted so much more and for so much more. And then it built your own self confidence that you really did have something. And then if you're really lucky and that's where the rankings come into play. When you say something that's different than the masses. And you have the confidence to say. Going against the grain to predict the future. Then the markets will go with you. The investors will go with you. People will be profitable based on your recommendations. People will make money based on what you say. And you build a reputation. And that was a process. This raises a number of secondary questions. Well, the first just for clarification, when you're talking about taking a public stance and promoting.\n"
     ]
    },
    {
     "name": "stdout",
     "output_type": "stream",
     "text": [
      "At this altitude, I can run flat out for a half mile before my hands start shaking. Can I ask you a personal question? I'm a cybernetic organism living to show our metal and hello boys and girls, ladies and germs, this is Tim Ferriss. Welcome to another episode of The Tim Ferriss Show, where it is usually my job to deconstruct world class performers, to tease out their routines, habits, etc. That you can apply to your own life and lives. This episode is something different. It's an experimental format that I am super excited about, and apparently so are many of you. It's backed by popular demand. This is an episode that scratches an itch I've had for many years now. I'm not always able to listen to every great podcast episode out there, even when they are by some of my closest friends. To answer that predicament, I decided to ask them, many of my friends, to send a top segment from their own podcast. Podcasts that I could listen to and more importantly, also share with you my dear listeners. My team edited them together and here we are. This episode is a compilation of roughly 15 to 30 minutes clips from some of the best podcasters and also best interviewees in the world, and certainly some of my favorites. At the beginning of each clip, you will hear an intro from the host and where to find their work and podcast at the end. I'll also share one or two of my favorite clips from episodes of The Tim Ferris Show. You can view this episode as a buffet and I strongly suggest that you check out the shows included. If you like my podcast, you will very likely enjoy the featured shows in this episode. For the full list of the guests featured today, see the episode's description or as usual, head to Tim blog podcast for all the details. And before you go, do you like this format? Please let me know on Twitter at tferris tferriss, and also mentioncc at teamtimferris if you remember. Without further ado, please enjoy. Hi there. My name is Matt Walker, and I am a professor of neuroscience at the University of California, Berkeley. I am also the author of the book Why We Sleep, and I've given a couple of Ted Talks here and there as well. I'm also the host of the Matt Walker podcast, a sample of which I wanted to offer here. Now, I think it's safe to say that when most podcasters think about their audience perhaps falling asleep or nodding off while listening, it can be profoundly disheartening. However, based on the topic of this podcast, I'm going to actively encourage that kind of behavior from you. In fact, knowing what I know, particularly about the relationship between sleep and memory, it's the greatest form of flattery for me to think that people like you cannot resist the urge to strengthen and consolidate what I'm telling you by falling asleep. So please just feel free to ebb and flow in and out of consciousness throughout the entire episode. I'll take absolutely no offense. And today, in terms of the episode, we're going to speak about two things. First, I'm going to tell you about the impact of alcohol on your sleep, which, right from the off, is going to make me deeply unpopular. And if that wasn't bad enough, I'm going to follow it up by speaking about the impact of caffeine on your sleep. So let's first speak about nightcaps. And here, by the way, I'm not speaking about the physical kind. What I'm talking about here is the liquid kind. We're talking about alcohol and sleep. So we're going to talk a little bit about what alcohol is as a chemical. Then we'll speak about how alcohol impacts your sleep. And then we'll explain why it is that alcohol has these harmful impacts on your sleep. Alcohol is perhaps one of the most misunderstood sleep AIDS that there is out there. As we're going to learn, it is anything but a sleep aid. And even though people may feel as though a we drink in the evening or several drinks in the evening may be helping their sleep, in fact, it's harming your sleep. Alcohol will impact your sleep in.\n",
      "Were to infringe on your boundaries, either physically or emotionally, the healthy response for you is to mount an anger response. No. Get out. Stay away. That's healthy. Healthy anger is in the moment. It protects your boundaries, and then it's gone. It's not necessary anymore. However, if your boundaries were infringed as a child, but you could not express it, it doesn't disappear. It gets suppressed. It becomes almost like a volcano that's gurgling and bubbling inside you, but it had no expression. Now, why did you suppress it? Because if you're being well, you've been very public about this, so I'm sure you'll allow me to mention it, but sometime after you and I talked, you actually publicly acknowledged that you'd been sexually abused as a child. You did. Now, when that's happening to a small child, the last thing you can afford is to be angry. Because if you get rageful at the boundary invasion, you're going to get hurt even more. So suppressing that rage becomes a survival mechanism. Nothing wrong with it. It's the right thing to do. You don't do it. Your brain will do it for you automatically as a way of preserving your life or your relative safety. But the race doesn't go away. What happens later on as an adult? Something triggers you, and all of a sudden, it just explodes out of you and you have no control over it. Now, it's no longer a response, a healthy response to the present moment, but it's a response to the past. And just as my hurt and sense of abandonment and enraged was triggered by my wife not picking me up at the airport, so a person's rage can be triggered by something relatively minor. But all of a sudden, this lava flow just explodes out of you. And the difference between healthy anger and by the way, suppressing healthy anger is also unhealthy for you. We can talk about that. But just as healthy anger expresses itself, does its job, and it's gone. Rage such as I'm describing, such as the way I used to experience it and probably used to experience it, the more it explodes, the bigger it gets. That's what happens to me. I've worked with certain therapists who have said, punch a pillow, express the rage, let it just pass through you like the wind. But that isn't, in fact, what happens with me. And I know I'm not the only one that actually magnifies and intensifies and extends this feeling exactly because it recruits more brain circuits into its service. So that's the difference between healthy anger on the one hand, which is a central boundary defense. And by the way, so much parenting advice in this culture tells parents to force kids to suppress their anger. Really unhealthy advice. There's healthy anger, then there's that rage that you and I have both experienced. If you're going to punch a human being and there's a pillow to punch instead, better to punch the pillow. No question about that, but as a technique of dealing with it. No, that's not how you learn to process that rage, because it needs to be processed. How do you approach the processing? What is a more effective subscription or one possible way? Well, if I was working with you, I would encourage you to fully experience the body experience of rage, what's happening in your body. And you'll find that it's not just an idea in your head. It's something that dominates your visceral experience of yourself, your muscles, your breathing, your abdomen, the entire nervous system. And there's ways of just helping you experience it, experience it by raising the awareness of that somatic experience of being with it. There's a wonderful Buddhist lineage, spiritual teacher, meditation teacher called Tara Brach, who talks about rain. Recognize, allow, investigate, and nurture. So you recognize, oh, yeah, this is happening to me right now. Okay, I'm going to allow it. Not allowing it in the sense of, I'm going to act it out on somebody else, but I'm going to be with the experience and then investigate. Okay, what is this really all about? And then nurture that little person that had to suppress all that rage. It's a nutshell view of it, but in other words, there's ways of working with it through the body that doesn't involve either suppressing it or acting it out, but in experiencing it's,\n"
     ]
    },
    {
     "name": "stdout",
     "output_type": "stream",
     "text": [
      "Hello, boys and girls. This is Tim Ferrison. Welcome to another episode of The Tim Ferriss Show, where it is my job each episode to deconstruct, tease out the habits and routines, best practices, life lessons and so on from worldclass performers from many, many different disciplines. My guest today is Jim Collins, and this is a rare treat because very, very seldom does any media or interviews whatsoever. I have wanted to speak with him for more than a decade, in fact, and it was worth the wait. This conversation over, delivered on every level I can imagine, and I really hope you enjoy it as much as I did. So who is Jim Collins, this mysterious reclusive mastermind polymath? Jim Collins is a student and teacher of what makes great companies tick, and a Socratic advisor will get a better idea of what that means, particularly in the beginning of the interview, where he wants to ask me questions. So we do get to Jim's story, but he wants to, and wanted to, even before we started recording, ask me a few questions. So let me get back to the bio. He is student and teacher of what makes great companies tick, and that is an understatement. He really has delved into the data. And a Socratic adviser to leaders in the business and social sectors. He's authored or coauthored eight books that have together sold more than 10 million copies worldwide. That's a lot of books, including Good to Great to Great in the Social Sectors. Built to Last. How the Mighty fall? Great by choice. And his newest work, Turning the Flywheel, which gets into all sorts of details about the selfperpetuating, in some ways models behind Amazon, Vanguard, and so on. Fascinating concept and very practical examples, driven by a relentless curiosity, which you will get frontrow seats for. Jim began his research and teaching career on the faculty at the Stanford Graduate School of Business, where he received the Distinguished Teaching Award in 1992. In 1995, he founded a management laboratory in Boulder, Colorado. In 2017, Forbes left. Jim is one of the 100 greatest living business minds, and we talk about not just what makes good companies great, we get into that a bit. But really we're digging into Jim himself. We talk about how he tracks time, how he breaks up his day, his sleep optimization, his stories related to Peter Drucker, which are just amazing, and so on and so forth. He's also, as I might have already, inferred multifaceted and multi talented. He's an avid rock climber, as one example, and has completed Single Day, a sense of El Capitan and Half Dome in Yosemite Valley. And if you don't know what that means, just take my word for it, it's very impressive. You can find more about Jim at Jim Collins.com. And now, without further ado, please enjoy and I certainly enjoyed it. Please enjoy this wide ranging conversation with none other than Jim Collins. Jim, welcome to the show. I'm really happy to be here, and I'm hoping that you wouldn't mind if I start by exercising a bit of my own curiosity, just to ask you some questions to begin our conversation. I would love to jump into it any way that you would like. So I'm game for questions. So I'm dying to ask, what did you do your Princeton senior thesis on? My senior thesis, which took some extra time to complete, was on the phonetic and semantic acquisition of Chinese characters by native English speakers. And it was looking at language acquisition, but specifically what most people in the west would consider idiograms. And there are a few different layers of meaning or context for each character that one might acquire. So the thesis was about the different approaches, the pros and cons of various methods for acquiring these characters. And what is language acquisition? It's a major I've never quite heard of, and I'd be curious what its essence is. So within the East Asian Studies department, you had to pick a primary language. And I chose Japanese because I had spent a year in high school in Japan going to a Japanese school as an exchange student. But I ended up taking primarily Chinese classes because my Japanese level was already decently high. And within the context of that department, language acquisition would be focusing on and this.\n",
      "With the 10th of the 9th. Did you have in your mind a particular time frame for that, or was it just a reminder of the magnitude of the goal before you, if you wanted to move the needle? I didn't really have a time to mention at the time, things have changed a lot in the venture business. Technology has infused so much more of the wool. I keep reminding myself, when I was at PayPal in 2000, there were about 200 million people on the planet that had Internet. 200 million? That's wild. And the vast majority of them were on dial up. So by the time I joined Sequoia in 2003, we didn't even have broadband reaching 50% of the US. Population yet. So the numbers are still much smaller, and technology doesn't have the scale that it does have today. And so I just thought, eventually get to a billion. Now, honestly, I feel like it's ten to the ten that you need to strive for, because technology has infused so much of what we do. So let's do as promised, the rewind to childhood. And I'll let you take this ball and run with it wherever you want to go. But I did read a bit about your high school system of having your goals visible to you while you were studying. At least that's based on a bit of reading. I think this is actually from it should be accurate because it's from Square cap.com or the articles thereof. So could you please elaborate on what you did back during that era of your life? I thought I needed there's a concept in psychology called the Ulysses Pact, which is this idea that in the midst of Ulysses, he wanted to hear the Sirens. So he had all these soldiers, all his sailors, wax up their ears, time to a mast, and that way they could sell past and he could hear the Sirens and they wouldn't succumb to them. And so in psychology, the Ulysses factor is this idea that you make a pact with your future self, knowing that your future self is going to be weak. And so my technique for doing this, not having read about psychology yet, was to put notes in front of my desk, on the door, leaving my room and candidly all over my room, reminding me of what I was aiming for. And in high school, it was to be the top ten in my state at the end of high school. At college, it was to be number one. And I would just put all these reminders of what my goals were. So if I was tempted to get up to go make a cup of tea or watch television or take a break, I would just see what I'd written to myself and I'm reminded of what I need to do if I want to achieve what I want to achieve in life. Do you still use reminders like that of any type or do you feel like you've hit a certain escape velocity where that's no longer necessary? I still use some of those. I mean, when I was at Sequoia, as you pointed out earlier, I had the ten to the nine. I try to keep track of how I spend my time. When I was in college. I would literally write down the time that I started studying down to the minute. And then I write down the time that I got up so that I would have an accurate tally at the end of the day of exactly how much time I actually spent studying instead of just thinking that I was studying and just loafing around the house doing nothing. And so I use evernote to do that. I organize key things that I want to accomplish for Sequoia and for each of the companies that I work with. So I always have this running list of what are the key things you need to focus on, the three most important things you need to accomplish for a given company over the next, say, six months as a reminder of the most important things. Next up, Will McCaskill, an associate professor in philosophy at the University of Oxford, will cofounded the nonprofits Giving What We Can, the center for Effective Altruism and Y combinator backed 80,000 hours. His new book is what we owe the future. In the last, say, five years, you can pick the time frame, but recent history. What new belief, behavior, or habit has most improved your life? I think the biggest one of all, and this was really big during writing the book, which was this enormous challenge. It was like my main focus for two years. Over the course of the pandemic was evening checkins with an employee of mine who also functioned a bit like a productivity coach. So every evening I would set deadlines for the next day, both input and output. So input would be how many hours of track lighting I would do, where going to the bathroom did not count, and a really big day would be 6 hours. Sometimes, very occasionally, I'd get more than that and also output goals as well. So I'd say I will have drafted this section or these sections, or I will have done such and such. I would also normally make some other commitments as well, such as how much time do I spend looking at reddit on my phone, how much caffeine am I allowed to drink? Do I exercise things like this? And Laura Hermelis, who is doing it, is wonderful and nicest person ever, and she just never beat me up about this. But I would beat myself up, and it would make.\n"
     ]
    },
    {
     "name": "stdout",
     "output_type": "stream",
     "text": [
      "None\n"
     ]
    },
    {
     "ename": "TypeError",
     "evalue": "write() argument must be str, not None",
     "output_type": "error",
     "traceback": [
      "\u001b[0;31m---------------------------------------------------------------------------\u001b[0m",
      "\u001b[0;31mTypeError\u001b[0m                                 Traceback (most recent call last)",
      "Input \u001b[0;32mIn [19]\u001b[0m, in \u001b[0;36m<cell line: 5>\u001b[0;34m()\u001b[0m\n\u001b[1;32m      9\u001b[0m raw_text \u001b[38;5;241m=\u001b[39m response\u001b[38;5;241m.\u001b[39mjson()[\u001b[38;5;124m'\u001b[39m\u001b[38;5;124mtext\u001b[39m\u001b[38;5;124m'\u001b[39m]\n\u001b[1;32m     10\u001b[0m \u001b[38;5;28;01mwith\u001b[39;00m \u001b[38;5;28mopen\u001b[39m(f\u001b[38;5;124m'\u001b[39m\u001b[38;5;124m./transcripts/\u001b[39m\u001b[38;5;132;01m{tid}\u001b[39;00m\u001b[38;5;124m.txt\u001b[39m\u001b[38;5;124m'\u001b[39m, \u001b[38;5;124m'\u001b[39m\u001b[38;5;124mw\u001b[39m\u001b[38;5;124m'\u001b[39m) \u001b[38;5;28;01mas\u001b[39;00m f:\n\u001b[0;32m---> 11\u001b[0m     \u001b[43mf\u001b[49m\u001b[38;5;241;43m.\u001b[39;49m\u001b[43mwrite\u001b[49m\u001b[43m(\u001b[49m\u001b[43mraw_text\u001b[49m\u001b[43m)\u001b[49m\n",
      "\u001b[0;31mTypeError\u001b[0m: write() argument must be str, not None"
     ]
    }
   ],
   "source": [
    "path = './transcripts'\n",
    "if not os.path.exists(path):\n",
    "    os.mkdir(path)\n",
    "\n",
    "for tid in output_ids:\n",
    "    transcript_url = f'https://api.assemblyai.com/v2/transcript/{tid}'\n",
    "    response = requests.get(transcript_url, headers=headers)\n",
    "    print(response.json()['text'])\n",
    "    raw_text = response.json()['text']\n",
    "    with open(f'./transcripts/{tid}.txt', 'w') as f:\n",
    "        f.write(raw_text)"
   ]
  },
  {
   "cell_type": "code",
   "execution_count": null,
   "id": "3dd656a5",
   "metadata": {},
   "outputs": [],
   "source": []
  },
  {
   "cell_type": "code",
   "execution_count": null,
   "id": "1ad7f0fc",
   "metadata": {},
   "outputs": [],
   "source": []
  }
 ],
 "metadata": {
  "kernelspec": {
   "display_name": "Python 3 (ipykernel)",
   "language": "python",
   "name": "python3"
  },
  "language_info": {
   "codemirror_mode": {
    "name": "ipython",
    "version": 3
   },
   "file_extension": ".py",
   "mimetype": "text/x-python",
   "name": "python",
   "nbconvert_exporter": "python",
   "pygments_lexer": "ipython3",
   "version": "3.8.10"
  }
 },
 "nbformat": 4,
 "nbformat_minor": 5
}
