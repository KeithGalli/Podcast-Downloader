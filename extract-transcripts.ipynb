{
 "cells": [
  {
   "cell_type": "code",
   "execution_count": 47,
   "id": "debc34dd",
   "metadata": {},
   "outputs": [],
   "source": [
    "import requests\n",
    "from bs4 import BeautifulSoup\n"
   ]
  },
  {
   "cell_type": "code",
   "execution_count": 48,
   "id": "90e1686b",
   "metadata": {},
   "outputs": [],
   "source": [
    "rss_feeds = {'Dave Ramsey': 'https://feeds.megaphone.fm/RM4031649020', \n",
    "             'Huberman-Lab': 'https://feeds.megaphone.fm/hubermanlab',\n",
    "             'Peter Attia MD': 'https://peterattiadrive.libsyn.com/rss',\n",
    "             'Tim Ferriss Show': 'https://rss.art19.com/tim-ferriss-show',}"
   ]
  },
  {
   "cell_type": "code",
   "execution_count": 49,
   "id": "ac8e5c08",
   "metadata": {},
   "outputs": [
    {
     "name": "stdout",
     "output_type": "stream",
     "text": [
      "https://feeds.megaphone.fm/RM4031649020\n",
      "https://feeds.megaphone.fm/hubermanlab\n",
      "https://peterattiadrive.libsyn.com/rss\n",
      "https://rss.art19.com/tim-ferriss-show\n"
     ]
    }
   ],
   "source": [
    "for value in rss_feeds.values():\n",
    "    print(value)"
   ]
  },
  {
   "cell_type": "code",
   "execution_count": 50,
   "id": "d23a0a58",
   "metadata": {},
   "outputs": [],
   "source": [
    "podcast = 'Huberman-Lab'\n",
    "page = requests.get(rss_feeds[podcast])\n",
    "soup = BeautifulSoup(page.text, 'xml')"
   ]
  },
  {
   "cell_type": "code",
   "execution_count": 51,
   "id": "5e8b4856",
   "metadata": {},
   "outputs": [
    {
     "name": "stdout",
     "output_type": "stream",
     "text": [
      "Requirement already satisfied: lxml in /home/kgalli/.local/lib/python3.8/site-packages (4.9.1)\r\n"
     ]
    }
   ],
   "source": [
    "!pip install lxml"
   ]
  },
  {
   "cell_type": "code",
   "execution_count": 52,
   "id": "24c76fb3",
   "metadata": {},
   "outputs": [],
   "source": [
    "episodes = [podcast.find('enclosure')['url'] for podcast in soup.find_all('item')]\n",
    "titles = [podcast.find('title').text for podcast in soup.find_all('item')]\n",
    "dates = [podcast.find('pubDate').text for podcast in soup.find_all('item')]"
   ]
  },
  {
   "cell_type": "code",
   "execution_count": 53,
   "id": "684e6474",
   "metadata": {},
   "outputs": [],
   "source": [
    "# import datetime\n",
    "\n",
    "# datetime.datetime.strptime(dates[0], '%a, %d %b %Y %X %f').strftime('%y')"
   ]
  },
  {
   "cell_type": "code",
   "execution_count": 54,
   "id": "82227ec2",
   "metadata": {},
   "outputs": [],
   "source": [
    "import dateutil.parser\n",
    "yourdate = dateutil.parser.parse(dates[0])\n",
    "\n",
    "dates_fmt = [dateutil.parser.parse(x).strftime('%b-%d-%Y_%H%M') for x in dates]"
   ]
  },
  {
   "cell_type": "code",
   "execution_count": 55,
   "id": "fa2b87fd",
   "metadata": {},
   "outputs": [
    {
     "data": {
      "text/plain": [
       "['Oct-24-2022_0800',\n",
       " 'Oct-17-2022_0800',\n",
       " 'Oct-10-2022_0800',\n",
       " 'Oct-03-2022_0800',\n",
       " 'Sep-26-2022_0800']"
      ]
     },
     "execution_count": 55,
     "metadata": {},
     "output_type": "execute_result"
    }
   ],
   "source": [
    "dates_fmt[:5]"
   ]
  },
  {
   "cell_type": "code",
   "execution_count": 56,
   "id": "4e126ee5",
   "metadata": {},
   "outputs": [],
   "source": [
    "EPISODE_COUNT = 10"
   ]
  },
  {
   "cell_type": "code",
   "execution_count": 58,
   "id": "3cc00015",
   "metadata": {},
   "outputs": [
    {
     "name": "stdout",
     "output_type": "stream",
     "text": [
      "https://dcs.megaphone.fm/SCIM2227065926.mp3?key=52ae7cc6f253c1cd69af7a4356cf7b55\n",
      "<Response [200]>\n",
      "https://dcs.megaphone.fm/SCIM2940233129.mp3?key=ae2848decb83212d0a9ac52b10a5d7ca\n",
      "<Response [200]>\n",
      "https://dcs.megaphone.fm/SCIM3664218578.mp3?key=f89cf4fe1e5bfe38226eddc956b137fd\n",
      "<Response [200]>\n",
      "https://dcs.megaphone.fm/SCIM1203833427.mp3?key=24e18ada3d83175d66fb1392d5604e3f\n",
      "<Response [200]>\n",
      "https://dcs.megaphone.fm/SCIM4911670131.mp3?key=3fb13e0a5aec94f872015a9c9b706cc1\n",
      "<Response [200]>\n",
      "https://dcs.megaphone.fm/SCIM2598262635.mp3?key=c7ce8bf07eff37b8ee653bc7683aabdc\n",
      "<Response [200]>\n",
      "https://dcs.megaphone.fm/SCIM2527130481.mp3?key=0377f28a406a8b9f38a4f7cde90aeaea\n",
      "<Response [200]>\n",
      "https://dcs.megaphone.fm/SCIM5273827033.mp3?key=5cd6b528aaa4cf4c802eb7731f395fac\n",
      "<Response [200]>\n",
      "https://dcs.megaphone.fm/SCIM8647614944.mp3?key=50be9775df630c77531e64b85ccace11\n",
      "<Response [200]>\n",
      "https://dcs.megaphone.fm/SCIM2182961996.mp3?key=13be2dbe1bdaa30cb868069ada3fe83c\n",
      "<Response [200]>\n"
     ]
    }
   ],
   "source": [
    "import os\n",
    "\n",
    "os.mkdir(f'./downloads/{podcast}')\n",
    "\n",
    "for i in range(EPISODE_COUNT):\n",
    "    episode_url = episodes[i]\n",
    "    redirect_url = requests.get(episode_url).url\n",
    "    print(redirect_url)\n",
    "    results = requests.get(redirect_url)\n",
    "    \n",
    "    print(content)\n",
    "    \n",
    "    file_name = titles[i]\n",
    "    with open(f'./downloads/{podcast}/{file_name}.mp3', 'wb') as f:\n",
    "        f.write(results.content)"
   ]
  },
  {
   "cell_type": "code",
   "execution_count": null,
   "id": "2eb724c1",
   "metadata": {},
   "outputs": [],
   "source": []
  }
 ],
 "metadata": {
  "kernelspec": {
   "display_name": "Python 3 (ipykernel)",
   "language": "python",
   "name": "python3"
  },
  "language_info": {
   "codemirror_mode": {
    "name": "ipython",
    "version": 3
   },
   "file_extension": ".py",
   "mimetype": "text/x-python",
   "name": "python",
   "nbconvert_exporter": "python",
   "pygments_lexer": "ipython3",
   "version": "3.8.10"
  }
 },
 "nbformat": 4,
 "nbformat_minor": 5
}
